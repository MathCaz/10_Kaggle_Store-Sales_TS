{
 "cells": [
  {
   "cell_type": "markdown",
   "metadata": {},
   "source": [
    "peut aussi ajouter des statistical features (reflechir interet) comme :    \n",
    "14-day rolling median (median) of lagged target    \n",
    "7-day rolling standard deviation (std) of lagged target    \n",
    "7-day sum (sum) of items \"on promotion\", with centered window   "
   ]
  },
  {
   "cell_type": "markdown",
   "metadata": {},
   "source": [
    "ajouter des filtres auto pour faire plus de tests ? \n",
    "\n",
    "\n",
    "reflechir strategie globale : obj = learn et super score compete\n",
    "> terminer totalement la methode kaggle sur ce petit set    \n",
    "> ?? passer sur d'autres sets ?    \n",
    "> tester autres methodes ztm    \n",
    "> puis passer sur le set global\n",
    ">\n",
    "> cross validation ou au moins train test > y'en a un à la fin de l'exo \"Time Series as a Feature\"      \n",
    "> passer en log(1+x) pour mieux coller au scoring\n",
    "\n",
    "pour passer au multi products, voir l'exo sur \"Time Series as Features\" semble pas mal    \n",
    "\n",
    "passer sur une class/objet ? comme dans 'Hybrid Models\" ?  ca peut etre interressant pour pratiquer (mais doit avoir un interet)\n",
    "\n",
    "tester sur Bourse pour voir ? :)      \n",
    "\n",
    "\n",
    "il faudrait faire de periodogrames apres les trucs des events et des serial dependencies pour voir si vire des trucs\n",
    "\n",
    "\n",
    "\n",
    "\n",
    "\n",
    "\n",
    "\n",
    "\n",
    "\n",
    "\n",
    "\n"
   ]
  },
  {
   "cell_type": "markdown",
   "metadata": {},
   "source": [
    "# Notes"
   ]
  },
  {
   "cell_type": "markdown",
   "metadata": {},
   "source": [
    "is there better training score than RMS for the goal of this comp ?      \n",
    "\n",
    "filtrer time ? (peut etre meilleurs results si prends pas les vielles années ?)\n",
    "> dans ce cas, je ne pense pas car grosse perturbation en 2016 avec earthquake\n",
    "\n",
    "\n",
    "\n",
    "général : pas besoin de troooop se casser la tete : go pour un modèle et quand score suffisant, stop      \n",
    "\n",
    "idée : faire un faux trend d'ordre un peu élevé (voir le seasonal_decompose si aide) pour que ce soit plus smooth pour les seasonnal ? puis remettre le trend normal pour les holidays et lags (avec XGB à priori)     "
   ]
  }
 ],
 "metadata": {
  "language_info": {
   "name": "python"
  }
 },
 "nbformat": 4,
 "nbformat_minor": 2
}
